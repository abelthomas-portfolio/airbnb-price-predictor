{
 "cells": [
  {
   "cell_type": "code",
   "execution_count": null,
   "id": "6fbcf867",
   "metadata": {},
   "outputs": [
    {
     "name": "stdout",
     "output_type": "stream",
     "text": [
      "   host_is_superhost          cancellation_policy instant_bookable  \\\n",
      "91                 f                     flexible                t   \n",
      "33                 t  strict_14_with_grace_period                f   \n",
      "27                 t  strict_14_with_grace_period                f   \n",
      "56                 f                     moderate                f   \n",
      "\n",
      "    host_total_listings_count neighbourhood_cleansed  latitude  longitude  \\\n",
      "91                       20.0     Financial District  37.79447 -122.40450   \n",
      "33                        3.0       Western Addition  37.78895 -122.43031   \n",
      "27                        2.0           Potrero Hill  37.75645 -122.39910   \n",
      "56                        4.0    Castro/Upper Market  37.76068 -122.43331   \n",
      "\n",
      "   property_type        room_type  accommodates  ...  bedrooms_na  \\\n",
      "91        Hostel      Shared room           1.0  ...          0.0   \n",
      "33         House     Private room           2.0  ...          0.0   \n",
      "27     Apartment     Private room           2.0  ...          0.0   \n",
      "56     Apartment  Entire home/apt           2.0  ...          0.0   \n",
      "\n",
      "    bathrooms_na  beds_na review_scores_rating_na  review_scores_accuracy_na  \\\n",
      "91           1.0      0.0                     0.0                        0.0   \n",
      "33           0.0      0.0                     0.0                        0.0   \n",
      "27           0.0      0.0                     0.0                        0.0   \n",
      "56           0.0      0.0                     0.0                        0.0   \n",
      "\n",
      "    review_scores_cleanliness_na  review_scores_checkin_na  \\\n",
      "91                           0.0                       0.0   \n",
      "33                           0.0                       0.0   \n",
      "27                           0.0                       0.0   \n",
      "56                           0.0                       0.0   \n",
      "\n",
      "    review_scores_communication_na  review_scores_location_na  \\\n",
      "91                             0.0                        0.0   \n",
      "33                             0.0                        0.0   \n",
      "27                             0.0                        0.0   \n",
      "56                             0.0                        0.0   \n",
      "\n",
      "    review_scores_value_na  \n",
      "91                     0.0  \n",
      "33                     0.0  \n",
      "27                     0.0  \n",
      "56                     0.0  \n",
      "\n",
      "[4 rows x 34 columns]\n"
     ]
    }
   ],
   "source": [
    "import pandas as pd\n",
    "\n",
    "# Load the original dataset\n",
    "df = pd.read_csv('converted.csv')\n",
    "\n",
    "# Select the rows based on index or any other condition\n",
    "selected_rows = df.iloc[[91, 33, 27, 56]]  \n",
    "\n",
    "# Display the selected rows\n",
    "print(selected_rows)"
   ]
  },
  {
   "cell_type": "code",
   "execution_count": 44,
   "id": "e0226025",
   "metadata": {},
   "outputs": [
    {
     "name": "stdout",
     "output_type": "stream",
     "text": [
      "    bedrooms  accommodates  review_scores_rating  room_type_Private room  \\\n",
      "91       1.0           1.0                  92.0                       0   \n",
      "33       1.0           2.0                  92.0                       1   \n",
      "27       1.0           2.0                  98.0                       1   \n",
      "56       0.0           2.0                  94.0                       0   \n",
      "\n",
      "    bathrooms  room_type_Shared room  log_price  \n",
      "91        1.0                      1   3.806662  \n",
      "33        1.5                      0   4.700480  \n",
      "27        1.0                      0   5.043425  \n",
      "56        1.0                      0   4.753590  \n"
     ]
    }
   ],
   "source": [
    "import numpy as np\n",
    "\n",
    "# One-hot encode the 'room_type' to ensure consistency with the training data\n",
    "selected_rows = pd.get_dummies(selected_rows, columns=['room_type'], drop_first=True)\n",
    "\n",
    "# Log transform the 'price'\n",
    "selected_rows['log_price'] = np.log(selected_rows['price'])\n",
    "\n",
    "# Ensure the necessary columns are present, creating them if they are missing\n",
    "required_columns = ['room_type_Private room', 'room_type_Shared room']\n",
    "\n",
    "for col in required_columns:\n",
    "    if col not in selected_rows.columns:\n",
    "        selected_rows[col] = 0\n",
    "\n",
    "# Ensure columns are in the correct order\n",
    "selected_rows = selected_rows[['bedrooms', 'accommodates', 'review_scores_rating', \n",
    "                               'room_type_Private room', 'bathrooms', 'room_type_Shared room', 'log_price']]\n",
    "\n",
    "# Display the preprocessed data\n",
    "print(selected_rows)"
   ]
  },
  {
   "cell_type": "code",
   "execution_count": 45,
   "id": "3b6b85ed",
   "metadata": {},
   "outputs": [
    {
     "name": "stdout",
     "output_type": "stream",
     "text": [
      "    Actual Log Price  Predicted Log Price  Actual Price  Predicted Price  \\\n",
      "91          3.806662             3.911337          45.0        49.965711   \n",
      "33          4.700480             4.482176         110.0        88.426899   \n",
      "27          5.043425             4.752407         155.0       115.862809   \n",
      "56          4.753590             4.787325         116.0       119.980046   \n",
      "\n",
      "    Difference (Price Scale)  \n",
      "91                 -4.965711  \n",
      "33                 21.573101  \n",
      "27                 39.137191  \n",
      "56                 -3.980046  \n"
     ]
    }
   ],
   "source": [
    "import joblib\n",
    "\n",
    "final_gb = joblib.load('final_gradient_boosting_model.pkl')\n",
    "\n",
    "# Predict the log-transformed prices\n",
    "X_test_cases = selected_rows.drop(columns=['log_price'])\n",
    "predicted_log_prices = final_gb.predict(X_test_cases)\n",
    "\n",
    "# Convert the predicted log prices back to actual prices\n",
    "predicted_prices = np.exp(predicted_log_prices)\n",
    "\n",
    "# Compare the predicted prices with the actual prices\n",
    "comparison = pd.DataFrame({\n",
    "    'Actual Log Price': selected_rows['log_price'],\n",
    "    'Predicted Log Price': predicted_log_prices,\n",
    "    'Actual Price': np.exp(selected_rows['log_price']),\n",
    "    'Predicted Price': predicted_prices,\n",
    "    'Difference (Price Scale)': np.exp(selected_rows['log_price']) - predicted_prices\n",
    "})\n",
    "\n",
    "# Display the comparison\n",
    "print(comparison)"
   ]
  },
  {
   "cell_type": "code",
   "execution_count": 30,
   "id": "d7058a53",
   "metadata": {},
   "outputs": [
    {
     "name": "stdout",
     "output_type": "stream",
     "text": [
      "    Actual Log Price  Predicted Log Price  Actual Price  Predicted Price  \\\n",
      "91          3.806662             3.911337          45.0        49.965711   \n",
      "93          4.382027             4.793975          80.0       120.780500   \n",
      "98          4.787492             5.121646         120.0       167.610989   \n",
      "99          3.688879             4.435821          40.0        84.421421   \n",
      "\n",
      "    Difference (Price Scale)  \n",
      "91                 -4.965711  \n",
      "93                -40.780500  \n",
      "98                -47.610989  \n",
      "99                -44.421421  \n"
     ]
    }
   ],
   "source": [
    "import pickle\n",
    "import numpy as np\n",
    "import pandas as pd\n",
    "\n",
    "# Load the trained Gradient Boosting model using pickle\n",
    "with open('final_gradient_boosting_model_pickle2.pkl', 'rb') as file:\n",
    "    final_gb = pickle.load(file)\n",
    "\n",
    "# Ensure that `final_gb` is indeed a model and not just an array\n",
    "if hasattr(final_gb, 'predict'):\n",
    "    # Predict the log-transformed prices\n",
    "    X_test_cases = selected_rows.drop(columns=['log_price'])\n",
    "    predicted_log_prices = final_gb.predict(X_test_cases)\n",
    "\n",
    "    # Convert the predicted log prices back to actual prices\n",
    "    predicted_prices = np.exp(predicted_log_prices)\n",
    "\n",
    "    # Compare the predicted prices with the actual prices\n",
    "    comparison = pd.DataFrame({\n",
    "        'Actual Log Price': selected_rows['log_price'],\n",
    "        'Predicted Log Price': predicted_log_prices,\n",
    "        'Actual Price': np.exp(selected_rows['log_price']),\n",
    "        'Predicted Price': predicted_prices,\n",
    "        'Difference (Price Scale)': np.exp(selected_rows['log_price']) - predicted_prices\n",
    "    })\n",
    "\n",
    "    # Display the comparison\n",
    "    print(comparison)\n",
    "else:\n",
    "    print(\"Loaded object is not a model.\")\n"
   ]
  }
 ],
 "metadata": {
  "kernelspec": {
   "display_name": "Python 3 (ipykernel)",
   "language": "python",
   "name": "python3"
  },
  "language_info": {
   "codemirror_mode": {
    "name": "ipython",
    "version": 3
   },
   "file_extension": ".py",
   "mimetype": "text/x-python",
   "name": "python",
   "nbconvert_exporter": "python",
   "pygments_lexer": "ipython3",
   "version": "3.11.4"
  }
 },
 "nbformat": 4,
 "nbformat_minor": 5
}
